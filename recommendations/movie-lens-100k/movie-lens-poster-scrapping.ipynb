{
 "cells": [
  {
   "cell_type": "markdown",
   "metadata": {},
   "source": [
    "# Download Scripts for Poster Images from Movielens 100k Dataset\n",
    "\n",
    "Scripts are based on https://github.com/babu-thomas/movielens-posters"
   ]
  },
  {
   "cell_type": "code",
   "execution_count": 21,
   "metadata": {},
   "outputs": [
    {
     "data": {
      "application/vnd.jupyter.widget-view+json": {
       "model_id": "770fb7438b2c495c8bb6ef7083a0c3c1",
       "version_major": 2,
       "version_minor": 0
      },
      "text/plain": [
       "HBox(children=(IntProgress(value=1, bar_style='info', max=1), HTML(value='')))"
      ]
     },
     "metadata": {},
     "output_type": "display_data"
    },
    {
     "name": "stdout",
     "output_type": "stream",
     "text": [
      "\n"
     ]
    }
   ],
   "source": [
    "import csv\n",
    "import urllib.parse\n",
    "import urllib.request\n",
    "from bs4 import BeautifulSoup\n",
    "import pandas as pd\n",
    "\n",
    "from tqdm import tqdm_notebook as tqdm, trange\n",
    "\n",
    "#\n",
    "# Scrap IMDB URLs\n",
    "#\n",
    "items = pd.read_csv('u.item.zip', compression='zip', sep='|', usecols=[0, 1],\n",
    "                    encoding = \"ISO-8859-1\", names=['movie_id', 'movie_title'])\n",
    "for _, row in tqdm(items.iterrows()): \n",
    "    domain = 'http://www.imdb.com'\n",
    "    search_url = domain + '/find?q=' + urllib.parse.quote_plus(row.movie_title)\n",
    "    with urllib.request.urlopen(search_url) as response:\n",
    "        html = response.read()\n",
    "        soup = BeautifulSoup(html, 'html.parser')\n",
    "\n",
    "        try:\n",
    "            title = soup.find('table', class_='findList').tr.a['href']\n",
    "            movie_url = domain + title\n",
    "            with open('movie_url.csv', 'a', newline='') as out_csv:\n",
    "                writer = csv.writer(out_csv, delimiter=',')\n",
    "                writer.writerow([row.movie_id, movie_url])\n",
    "        except AttributeError:\n",
    "            pass"
   ]
  },
  {
   "cell_type": "code",
   "execution_count": 4,
   "metadata": {},
   "outputs": [
    {
     "data": {
      "application/vnd.jupyter.widget-view+json": {
       "model_id": "a692e4987a83484e8558e7a4cc7e8ee3",
       "version_major": 2,
       "version_minor": 0
      },
      "text/plain": [
       "HBox(children=(IntProgress(value=1, bar_style='info', max=1), HTML(value='')))"
      ]
     },
     "metadata": {},
     "output_type": "display_data"
    },
    {
     "name": "stdout",
     "output_type": "stream",
     "text": [
      "\n"
     ]
    }
   ],
   "source": [
    "#\n",
    "# Scrap poster images and URLs\n",
    "#\n",
    "row_names = ['movie_id', 'movie_url']\n",
    "urls = pd.read_csv('movie_url.csv', names=['movie_id', 'movie_url'])\n",
    "for _, row in tqdm(urls.iterrows()):\n",
    "        domain = 'http://www.imdb.com'\n",
    "        with urllib.request.urlopen(row.movie_url) as response:\n",
    "            html = response.read()\n",
    "            soup = BeautifulSoup(html, 'html.parser')\n",
    "\n",
    "            try:\n",
    "                image_url = soup.find('div', class_='poster').a.img['src']\n",
    "                extension = '.jpg'\n",
    "                image_url = ''.join(image_url.partition('_')[0]) + extension\n",
    "                filename = 'imdb-posters/' + row.movie_id + extension\n",
    "                with urllib.request.urlopen(image_url) as response:\n",
    "                    with open(filename, 'wb') as out_image:\n",
    "                        out_image.write(response.read())\n",
    "                    with open('movie_poster.csv', 'a', newline='') as out_csv:\n",
    "                        writer = csv.writer(out_csv, delimiter=',')\n",
    "                        writer.writerow([row.movie_id, row.image_url])\n",
    "            except AttributeError:\n",
    "                pass"
   ]
  }
 ],
 "metadata": {
  "kernelspec": {
   "display_name": "Python 3",
   "language": "python",
   "name": "python3"
  },
  "language_info": {
   "codemirror_mode": {
    "name": "ipython",
    "version": 3
   },
   "file_extension": ".py",
   "mimetype": "text/x-python",
   "name": "python",
   "nbconvert_exporter": "python",
   "pygments_lexer": "ipython3",
   "version": "3.7.4"
  }
 },
 "nbformat": 4,
 "nbformat_minor": 4
}
